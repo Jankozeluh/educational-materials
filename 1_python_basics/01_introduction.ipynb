{
 "cells": [
  {
   "cell_type": "markdown",
   "metadata": {},
   "source": [
    "# Introduction to Python for Data Analytics\n",
    "\n",
    "Welcome to your first Python lesson! This notebook will introduce you to the basics of Python programming, specifically tailored for data analysts coming from Excel.\n",
    "\n",
    "## What you'll learn\n",
    "- Basic Python syntax\n",
    "- Variables and data types\n",
    "- Simple operations (similar to Excel formulas)\n",
    "- Print statements and basic output\n",
    "\n",
    "## Why Python for Data Analysis?\n",
    "- Handles larger datasets than Excel\n",
    "- Automates repetitive tasks\n",
    "- More powerful data manipulation capabilities\n",
    "- Free and open-source\n",
    "- Extensive libraries for data analysis\n"
   ]
  },
  {
   "cell_type": "markdown",
   "metadata": {},
   "source": [
    "## Your First Python Code\n",
    "Let's start with something simple - printing 'Hello, Data Analyst!' to the screen."
   ]
  },
  {
   "cell_type": "code",
   "execution_count": 1,
   "metadata": {},
   "outputs": [
    {
     "name": "stdout",
     "output_type": "stream",
     "text": [
      "Hello, Data Analyst!\n"
     ]
    }
   ],
   "source": [
    "print('Hello, Data Analyst!')"
   ]
  },
  {
   "cell_type": "markdown",
   "metadata": {},
   "source": [
    "## Variables\n",
    "In Excel, you work with cells. In Python, we use variables. Think of variables as named containers for your data."
   ]
  },
  {
   "cell_type": "code",
   "execution_count": null,
   "metadata": {},
   "outputs": [],
   "source": [
    "# Numeric variables (like numbers in Excel cells)\n",
    "revenue = 1000\n",
    "costs = 600\n",
    "profit = revenue - costs\n",
    "\n",
    "print(f'Revenue: ${revenue}')\n",
    "print(f'Costs: ${costs}')\n",
    "print(f'Profit: ${profit}')"
   ]
  },
  {
   "cell_type": "markdown",
   "metadata": {},
   "source": [
    "## Basic Data Types\n",
    "Python has several basic data types. Here are the most common ones you'll use in data analysis:"
   ]
  },
  {
   "cell_type": "code",
   "execution_count": null,
   "metadata": {},
   "outputs": [],
   "source": [
    "# Numbers\n",
    "integer_number = 42  # Whole numbers\n",
    "decimal_number = 3.14  # Decimal numbers (called 'float' in Python)\n",
    "\n",
    "# Text (called 'string' in Python)\n",
    "text = 'Hello, Excel user!'\n",
    "\n",
    "# Boolean (TRUE/FALSE in Excel)\n",
    "is_profitable = True\n",
    "\n",
    "# Print all variables with their types\n",
    "print(f'Integer: {integer_number} (type: {type(integer_number)})')\n",
    "print(f'Decimal: {decimal_number} (type: {type(decimal_number)})')\n",
    "print(f'Text: {text} (type: {type(text)})')\n",
    "print(f'Boolean: {is_profitable} (type: {type(is_profitable)})')"
   ]
  },
  {
   "cell_type": "markdown",
   "metadata": {},
   "source": [
    "## Exercise\n",
    "Try creating your own variables and performing some basic calculations:\n",
    "1. Create variables for monthly sales data\n",
    "2. Calculate the total and average sales\n",
    "3. Print the results"
   ]
  },
  {
   "cell_type": "code",
   "execution_count": null,
   "metadata": {},
   "outputs": [],
   "source": [
    "# Your code here\n",
    "# Example solution:\n",
    "january_sales = 1200\n",
    "february_sales = 1500\n",
    "march_sales = 1800\n",
    "\n",
    "total_sales = january_sales + february_sales + march_sales\n",
    "average_sales = total_sales / 3\n",
    "\n",
    "print(f'Total Sales: ${total_sales}')\n",
    "print(f'Average Monthly Sales: ${average_sales}')"
   ]
  }
 ],
 "metadata": {
  "kernelspec": {
   "display_name": "base",
   "language": "python",
   "name": "python3"
  },
  "language_info": {
   "codemirror_mode": {
    "name": "ipython",
    "version": 3
   },
   "file_extension": ".py",
   "mimetype": "text/x-python",
   "name": "python",
   "nbconvert_exporter": "python",
   "pygments_lexer": "ipython3",
   "version": "3.12.2"
  }
 },
 "nbformat": 4,
 "nbformat_minor": 2
}
