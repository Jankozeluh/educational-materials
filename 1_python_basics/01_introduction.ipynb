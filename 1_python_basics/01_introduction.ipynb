{
 "cells": [
  {
   "cell_type": "markdown",
   "metadata": {},
   "source": [
    "# Introduction to Python for Data Analytics\n",
    "\n",
    "Welcome to your first Python lesson! This notebook will introduce you to the basics of Python programming, specifically tailored for data analysts coming from Excel.\n",
    "\n",
    "## What you'll learn\n",
    "- Basic Python syntax\n",
    "- Variables and data types\n",
    "- Simple operations (similar to Excel formulas)\n",
    "- Print statements and basic output\n",
    "\n",
    "## Why Python for Data Analysis?\n",
    "- Handles larger datasets than Excel\n",
    "- Automates repetitive tasks\n",
    "- More powerful data manipulation capabilities\n",
    "- Free and open-source\n",
    "- Extensive libraries for data analysis\n"
   ]
  },
  {
   "cell_type": "markdown",
   "metadata": {},
   "source": [
    "## Your First Python Code\n",
    "Let's start with something simple - printing 'Hello, Data Analyst!' to the screen."
   ]
  },
  {
   "cell_type": "code",
   "execution_count": null,
   "metadata": {},
   "source": [
    "print('Hello, Data Analyst!')"
   ]
  },
  {
   "cell_type": "markdown",
   "metadata": {},
   "source": [
    "## Variables\n",
    "In Excel, you work with cells. In Python, we use variables. Think of variables as named containers for your data."
   ]
  },
  {
   "cell_type": "code",
   "execution_count": null,
   "metadata": {},
   "source": [
    "# Numeric variables (like numbers in Excel cells)",
    "revenue = 1000",
    "costs = 600",
    "profit = revenue - costs",
    "\n",
    "print(f'Revenue: ${revenue}')",
    "print(f'Costs: ${costs}')",
    "print(f'Profit: ${profit}')"
   ]
  },
  {
   "cell_type": "markdown",
   "metadata": {},
   "source": [
    "## Basic Data Types\n",
    "Python has several basic data types. Here are the most common ones you'll use in data analysis:"
   ]
  },
  {
   "cell_type": "code",
   "execution_count": null,
   "metadata": {},
   "source": [
    "# Numbers",
    "integer_number = 42  # Whole numbers",
    "decimal_number = 3.14  # Decimal numbers (called 'float' in Python)",
    "\n",
    "# Text (called 'string' in Python)",
    "text = 'Hello, Excel user!'",
    "\n",
    "# Boolean (TRUE/FALSE in Excel)",
    "is_profitable = True",
    "\n",
    "# Print all variables with their types",
    "print(f'Integer: {integer_number} (type: {type(integer_number)})')",
    "print(f'Decimal: {decimal_number} (type: {type(decimal_number)})')",
    "print(f'Text: {text} (type: {type(text)})')",
    "print(f'Boolean: {is_profitable} (type: {type(is_profitable)})')"
   ]
  },
  {
   "cell_type": "markdown",
   "metadata": {},
   "source": [
    "## Exercise\n",
    "Try creating your own variables and performing some basic calculations:\n",
    "1. Create variables for monthly sales data\n",
    "2. Calculate the total and average sales\n",
    "3. Print the results"
   ]
  },
  {
   "cell_type": "code",
   "execution_count": null,
   "metadata": {},
   "source": [
    "# Your code here\n",
    "# Example solution:",
    "january_sales = 1200",
    "february_sales = 1500",
    "march_sales = 1800",
    "\n",
    "total_sales = january_sales + february_sales + march_sales",
    "average_sales = total_sales / 3",
    "\n",
    "print(f'Total Sales: ${total_sales}')",
    "print(f'Average Monthly Sales: ${average_sales}')"
   ]
  }
 ],
 "metadata": {
  "kernelspec": {
   "display_name": "Python 3",
   "language": "python",
   "name": "python3"
  },
  "language_info": {
   "codemirror_mode": {
    "name": "ipython",
    "version": 3
   },
   "file_extension": ".py",
   "mimetype": "text/x-python",
   "name": "python",
   "nbconvert_exporter": "python",
   "pygments_lexer": "ipython3",
   "version": "3.8.0"
  }
 }
}