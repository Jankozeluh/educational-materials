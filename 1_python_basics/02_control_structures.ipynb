{
 "cells": [
  {
   "cell_type": "markdown",
   "metadata": {},
   "source": [
    "# Control Structures and Functions in Python\n",
    "\n",
    "In this lesson, we'll learn about control structures (if/else statements and loops) and functions in Python. These concepts will help you automate repetitive tasks and make your code more organized.\n",
    "\n",
    "## What you'll learn\n",
    "- If/else statements (similar to IF() in Excel)\n",
    "- For loops (like copying formulas down in Excel)\n",
    "- While loops\n",
    "- Functions (like creating custom formulas)\n"
   ]
  },
  {
   "cell_type": "markdown",
   "metadata": {},
   "source": [
    "## If/Else Statements\n",
    "Let's start with if/else statements - they're similar to IF() functions in Excel."
   ]
  },
  {
   "cell_type": "code",
   "execution_count": 1,
   "metadata": {},
   "outputs": [
    {
     "name": "stdout",
     "output_type": "stream",
     "text": [
      "Target achieved!\n",
      "Exceptional performance!\n"
     ]
    }
   ],
   "source": [
    "# Example: Categorizing sales performance\n",
    "sales = 1500\n",
    "target = 1000\n",
    "\n",
    "if sales >= target:\n",
    "    print('Target achieved!')\n",
    "    if sales >= target * 1.5:\n",
    "        print('Exceptional performance!')\n",
    "else:\n",
    "    print('Target not met')"
   ]
  },
  {
   "cell_type": "markdown",
   "metadata": {},
   "source": [
    "## For Loops\n",
    "For loops are like automatically filling down formulas in Excel, but more powerful."
   ]
  },
  {
   "cell_type": "code",
   "execution_count": null,
   "metadata": {},
   "outputs": [],
   "source": [
    "# Example: Calculate monthly cumulative sales\n",
    "monthly_sales = [1200, 1500, 1800, 1400, 1600]\n",
    "cumulative_sales = 0\n",
    "\n",
    "for month_sale in monthly_sales:\n",
    "    cumulative_sales += month_sale\n",
    "    print(f'Current cumulative sales: ${cumulative_sales}')"
   ]
  },
  {
   "cell_type": "markdown",
   "metadata": {},
   "source": [
    "## While Loops\n",
    "While loops continue until a condition is met."
   ]
  },
  {
   "cell_type": "code",
   "execution_count": null,
   "metadata": {},
   "outputs": [],
   "source": [
    "# Example: Investment growth simulation\n",
    "initial_investment = 1000\n",
    "target_value = 2000\n",
    "annual_return = 0.07\n",
    "years = 0\n",
    "current_value = initial_investment\n",
    "\n",
    "while current_value < target_value:\n",
    "    current_value *= (1 + annual_return)\n",
    "    years += 1\n",
    "    print(f'Year {years}: ${current_value:.2f}')\n",
    "\n",
    "print(f'It takes {years} years to double the investment')"
   ]
  },
  {
   "cell_type": "markdown",
   "metadata": {},
   "source": [
    "## Functions\n",
    "Functions are like creating your own custom formulas in Excel."
   ]
  },
  {
   "cell_type": "code",
   "execution_count": null,
   "metadata": {},
   "outputs": [],
   "source": [
    "def calculate_bonus(sales, target):\n",
    "    '''Calculate bonus based on sales performance'''\n",
    "    if sales >= target * 1.5:\n",
    "        return sales * 0.15  # 15% bonus for exceptional performance\n",
    "    elif sales >= target:\n",
    "        return sales * 0.10  # 10% bonus for meeting target\n",
    "    else:\n",
    "        return 0  # No bonus if target not met\n",
    "\n",
    "# Test the function\n",
    "test_sales = [800, 1000, 1600]\n",
    "target = 1000\n",
    "\n",
    "for sale in test_sales:\n",
    "    bonus = calculate_bonus(sale, target)\n",
    "    print(f'Sales: ${sale}, Bonus: ${bonus}')"
   ]
  },
  {
   "cell_type": "markdown",
   "metadata": {},
   "source": [
    "## Exercise\n",
    "Create a function that:\n",
    "1. Takes a list of monthly sales\n",
    "2. Calculates the average\n",
    "3. Returns 'High' if above 1500, 'Medium' if between 1000-1500, and 'Low' if below 1000\n",
    "4. Test it with different sales data"
   ]
  },
  {
   "cell_type": "code",
   "execution_count": null,
   "metadata": {},
   "outputs": [],
   "source": [
    "# Your code here\n",
    "# Example solution:\n",
    "def analyze_sales_performance(monthly_sales):\n",
    "    average = sum(monthly_sales) / len(monthly_sales)\n",
    "    \n",
    "    if average > 1500:\n",
    "        return 'High'\n",
    "    elif average >= 1000:\n",
    "        return 'Medium'\n",
    "    else:\n",
    "        return 'Low'\n",
    "\n",
    "# Test cases\n",
    "low_sales = [800, 900, 850]\n",
    "medium_sales = [1200, 1300, 1100]\n",
    "high_sales = [1600, 1700, 1800]\n",
    "\n",
    "print(f'Low sales performance: {analyze_sales_performance(low_sales)}')\n",
    "print(f'Medium sales performance: {analyze_sales_performance(medium_sales)}')\n",
    "print(f'High sales performance: {analyze_sales_performance(high_sales)}')"
   ]
  }
 ],
 "metadata": {
  "kernelspec": {
   "display_name": "base",
   "language": "python",
   "name": "python3"
  },
  "language_info": {
   "codemirror_mode": {
    "name": "ipython",
    "version": 3
   },
   "file_extension": ".py",
   "mimetype": "text/x-python",
   "name": "python",
   "nbconvert_exporter": "python",
   "pygments_lexer": "ipython3",
   "version": "3.12.2"
  }
 },
 "nbformat": 4,
 "nbformat_minor": 2
}
