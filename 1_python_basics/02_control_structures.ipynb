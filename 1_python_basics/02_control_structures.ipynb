{
 "cells": [
  {
   "cell_type": "markdown",
   "metadata": {},
   "source": [
    "# Control Structures and Functions in Python\n",
    "\n",
    "In this lesson, we'll learn about control structures (if/else statements and loops) and functions in Python. These concepts will help you automate repetitive tasks and make your code more organized.\n",
    "\n",
    "## What you'll learn\n",
    "- If/else statements (similar to IF() in Excel)\n",
    "- For loops (like copying formulas down in Excel)\n",
    "- While loops\n",
    "- Functions (like creating custom formulas)\n"
   ]
  },
  {
   "cell_type": "markdown",
   "metadata": {},
   "source": [
    "## If/Else Statements\n",
    "Let's start with if/else statements - they're similar to IF() functions in Excel."
   ]
  },
  {
   "cell_type": "code",
   "execution_count": null,
   "metadata": {},
   "source": [
    "# Example: Categorizing sales performance",
    "sales = 1500",
    "target = 1000",
    "\n",
    "if sales >= target:",
    "    print('Target achieved!')",
    "    if sales >= target * 1.5:",
    "        print('Exceptional performance!')",
    "else:",
    "    print('Target not met')"
   ]
  },
  {
   "cell_type": "markdown",
   "metadata": {},
   "source": [
    "## For Loops\n",
    "For loops are like automatically filling down formulas in Excel, but more powerful."
   ]
  },
  {
   "cell_type": "code",
   "execution_count": null,
   "metadata": {},
   "source": [
    "# Example: Calculate monthly cumulative sales",
    "monthly_sales = [1200, 1500, 1800, 1400, 1600]",
    "cumulative_sales = 0",
    "\n",
    "for month_sale in monthly_sales:",
    "    cumulative_sales += month_sale",
    "    print(f'Current cumulative sales: ${cumulative_sales}')"
   ]
  },
  {
   "cell_type": "markdown",
   "metadata": {},
   "source": [
    "## While Loops\n",
    "While loops continue until a condition is met."
   ]
  },
  {
   "cell_type": "code",
   "execution_count": null,
   "metadata": {},
   "source": [
    "# Example: Investment growth simulation",
    "initial_investment = 1000",
    "target_value = 2000",
    "annual_return = 0.07",
    "years = 0",
    "current_value = initial_investment",
    "\n",
    "while current_value < target_value:",
    "    current_value *= (1 + annual_return)",
    "    years += 1",
    "    print(f'Year {years}: ${current_value:.2f}')",
    "\n",
    "print(f'It takes {years} years to double the investment')"
   ]
  },
  {
   "cell_type": "markdown",
   "metadata": {},
   "source": [
    "## Functions\n",
    "Functions are like creating your own custom formulas in Excel."
   ]
  },
  {
   "cell_type": "code",
   "execution_count": null,
   "metadata": {},
   "source": [
    "def calculate_bonus(sales, target):",
    "    '''Calculate bonus based on sales performance'''",
    "    if sales >= target * 1.5:",
    "        return sales * 0.15  # 15% bonus for exceptional performance",
    "    elif sales >= target:",
    "        return sales * 0.10  # 10% bonus for meeting target",
    "    else:",
    "        return 0  # No bonus if target not met",
    "\n",
    "# Test the function",
    "test_sales = [800, 1000, 1600]",
    "target = 1000",
    "\n",
    "for sale in test_sales:",
    "    bonus = calculate_bonus(sale, target)",
    "    print(f'Sales: ${sale}, Bonus: ${bonus}')"
   ]
  },
  {
   "cell_type": "markdown",
   "metadata": {},
   "source": [
    "## Exercise\n",
    "Create a function that:\n",
    "1. Takes a list of monthly sales\n",
    "2. Calculates the average\n",
    "3. Returns 'High' if above 1500, 'Medium' if between 1000-1500, and 'Low' if below 1000\n",
    "4. Test it with different sales data"
   ]
  },
  {
   "cell_type": "code",
   "execution_count": null,
   "metadata": {},
   "source": [
    "# Your code here\n",
    "# Example solution:",
    "def analyze_sales_performance(monthly_sales):",
    "    average = sum(monthly_sales) / len(monthly_sales)",
    "    \n",
    "    if average > 1500:",
    "        return 'High'",
    "    elif average >= 1000:",
    "        return 'Medium'",
    "    else:",
    "        return 'Low'",
    "\n",
    "# Test cases",
    "low_sales = [800, 900, 850]",
    "medium_sales = [1200, 1300, 1100]",
    "high_sales = [1600, 1700, 1800]",
    "\n",
    "print(f'Low sales performance: {analyze_sales_performance(low_sales)}')",
    "print(f'Medium sales performance: {analyze_sales_performance(medium_sales)}')",
    "print(f'High sales performance: {analyze_sales_performance(high_sales)}')"
   ]
  }
 ],
 "metadata": {
  "kernelspec": {
   "display_name": "Python 3",
   "language": "python",
   "name": "python3"
  },
  "language_info": {
   "codemirror_mode": {
    "name": "ipython",
    "version": 3
   },
   "file_extension": ".py",
   "mimetype": "text/x-python",
   "name": "python",
   "nbconvert_exporter": "python",
   "pygments_lexer": "ipython3",
   "version": "3.8.0"
  }
 }
}