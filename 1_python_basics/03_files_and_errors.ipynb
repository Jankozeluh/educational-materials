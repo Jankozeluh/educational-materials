{
 "cells": [
  {
   "cell_type": "markdown",
   "metadata": {},
   "source": [
    "# Working with Files and Error Handling in Python\n",
    "\n",
    "In this lesson, we'll learn how to work with files and handle errors in Python. These skills are essential for data analysis, especially when dealing with external data sources.\n",
    "\n",
    "## What you'll learn\n",
    "- Reading and writing text files\n",
    "- Working with CSV files (similar to Excel files)\n",
    "- Basic error handling with try/except\n",
    "- Common file operations\n"
   ]
  },
  {
   "cell_type": "markdown",
   "metadata": {},
   "source": [
    "## Reading Text Files\n",
    "Let's start with reading a simple text file."
   ]
  },
  {
   "cell_type": "code",
   "execution_count": null,
   "metadata": {},
   "source": [
    "# Example: Reading a text file\n",
    "with open('example.txt', 'w') as file:  # First, let's create a sample file\n",
    "    file.write('Product,Price\\nApple,1.20\\nBanana,0.80\\nOrange,1.00')",
    "\n",
    "# Now let's read it\n",
    "with open('example.txt', 'r') as file:\n",
    "    content = file.read()\n",
    "    print('File contents:')",
    "    print(content)"
   ]
  },
  {
   "cell_type": "markdown",
   "metadata": {},
   "source": [
    "## Working with CSV Files\n",
    "CSV files are similar to Excel spreadsheets and are commonly used in data analysis."
   ]
  },
  {
   "cell_type": "code",
   "execution_count": null,
   "metadata": {},
   "source": [
    "import csv\n",
    "\n",
    "# Example: Reading a CSV file\n",
    "with open('example.txt', 'r') as file:\n",
    "    csv_reader = csv.reader(file)\n",
    "    headers = next(csv_reader)  # Get the headers\n",
    "    print('Headers:', headers)\n",
    "    \n",
    "    for row in csv_reader:\n",
    "        product, price = row\n",
    "        print(f'{product}: ${price}')"
   ]
  },
  {
   "cell_type": "markdown",
   "metadata": {},
   "source": [
    "## Error Handling\n",
    "When working with files, things can go wrong. Let's learn how to handle errors gracefully."
   ]
  },
  {
   "cell_type": "code",
   "execution_count": null,
   "metadata": {},
   "source": [
    "# Example: Basic error handling\n",
    "def read_file(filename):\n",
    "    try:\n",
    "        with open(filename, 'r') as file:\n",
    "            return file.read()\n",
    "    except FileNotFoundError:\n",
    "        return f'Error: The file {filename} was not found.'\n",
    "    except PermissionError:\n",
    "        return f'Error: No permission to read {filename}.'\n",
    "    except Exception as e:\n",
    "        return f'An unexpected error occurred: {str(e)}'\n",
    "\n",
    "# Test with existing and non-existing files\n",
    "print(read_file('example.txt'))\n",
    "print(read_file('nonexistent.txt'))"
   ]
  },
  {
   "cell_type": "markdown",
   "metadata": {},
   "source": [
    "## Exercise\n",
    "Create a function that:\n",
    "1. Takes a filename and a list of records (each record should have a product name and price)\n",
    "2. Writes the records to a CSV file\n",
    "3. Includes proper error handling\n",
    "4. Test it with different scenarios"
   ]
  },
  {
   "cell_type": "code",
   "execution_count": null,
   "metadata": {},
   "source": [
    "# Your code here\n",
    "# Example solution:\n",
    "def write_products_to_csv(filename, records):\n",
    "    try:\n",
    "        with open(filename, 'w', newline='') as file:\n",
    "            writer = csv.writer(file)\n",
    "            writer.writerow(['Product', 'Price'])  # Write headers\n",
    "            writer.writerows(records)\n",
    "        return f'Successfully wrote {len(records)} records to {filename}'\n",
    "    except PermissionError:\n",
    "        return f'Error: No permission to write to {filename}'\n",
    "    except Exception as e:\n",
    "        return f'An error occurred: {str(e)}'\n",
    "\n",
    "# Test the function\n",
    "products = [\n",
    "    ['Apple', 1.20],\n",
    "    ['Banana', 0.80],\n",
    "    ['Orange', 1.00]\n",
    "]\n",
    "\n",
    "print(write_products_to_csv('products.csv', products))\n",
    "# Try reading the file back\n",
    "print('\nReading the file back:')",
    "print(read_file('products.csv'))"
   ]
  }
 ],
 "metadata": {
  "kernelspec": {
   "display_name": "Python 3",
   "language": "python",
   "name": "python3"
  },
  "language_info": {
   "codemirror_mode": {
    "name": "ipython",
    "version": 3
   },
   "file_extension": ".py",
   "mimetype": "text/x-python",
   "name": "python",
   "nbconvert_exporter": "python",
   "pygments_lexer": "ipython3",
   "version": "3.8.0"
  }
 }
}