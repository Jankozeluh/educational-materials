{
 "cells": [
  {
   "cell_type": "markdown",
   "metadata": {},
   "source": [
    "# Introduction to Pandas for Excel Users\n",
    "\n",
    "Welcome to Pandas! This library will be your new best friend for data analysis in Python. If you're coming from Excel, you'll find many familiar concepts here.\n",
    "\n",
    "## What you'll learn\n",
    "- What is Pandas and why use it\n",
    "- DataFrames (think Excel spreadsheets)\n",
    "- Reading and writing Excel/CSV files\n",
    "- Basic data operations\n",
    "\n",
    "## Why Pandas?\n",
    "- Handles much larger datasets than Excel\n",
    "- Powerful data manipulation capabilities\n",
    "- Automation of repetitive tasks\n",
    "- Integration with other Python libraries\n"
   ]
  },
  {
   "cell_type": "code",
   "execution_count": null,
   "metadata": {},
   "source": [
    "# First, let's import pandas\n",
    "import pandas as pd\n",
    "\n",
    "# Create a simple DataFrame (like an Excel sheet)\n",
    "data = {\n",
    "    'Product': ['Apple', 'Banana', 'Orange', 'Mango'],\n",
    "    'Price': [1.20, 0.80, 1.00, 2.00],\n",
    "    'Quantity': [100, 150, 120, 75]\n",
    "}\n",
    "\n",
    "df = pd.DataFrame(data)\n",
    "print('Our first DataFrame (like an Excel sheet):\n')\n",
    "print(df)"
   ]
  },
  {
   "cell_type": "markdown",
   "metadata": {},
   "source": [
    "## Basic Operations\n",
    "Let's look at some common operations that you might do in Excel:"
   ]
  },
  {
   "cell_type": "code",
   "execution_count": null,
   "metadata": {},
   "source": [
    "# Calculate total value (like Excel's multiplication and SUM)\n",
    "df['Total Value'] = df['Price'] * df['Quantity']\n",
    "\n",
    "print('DataFrame with calculated total values:\n')\n",
    "print(df)\n",
    "\n",
    "print('\nSummary statistics (like Excel\\'s descriptive statistics):\n')\n",
    "print(df.describe())\n",
    "\n",
    "print('\nTotal revenue:', df['Total Value'].sum())"
   ]
  },
  {
   "cell_type": "markdown",
   "metadata": {},
   "source": [
    "## Filtering Data\n",
    "In Excel, you use filters. In Pandas, it's even more powerful:"
   ]
  },
  {
   "cell_type": "code",
   "execution_count": null,
   "metadata": {},
   "source": [
    "# Filter products more expensive than $1 (like Excel's filter)\n",
    "expensive_products = df[df['Price'] > 1.0]\n",
    "print('Products more expensive than $1:\n')\n",
    "print(expensive_products)\n",
    "\n",
    "# Filter products with high inventory value\n",
    "high_value = df[df['Total Value'] > 100]\n",
    "print('\nProducts with total value over $100:\n')\n",
    "print(high_value)"
   ]
  },
  {
   "cell_type": "markdown",
   "metadata": {},
   "source": [
    "## Saving and Reading Files\n",
    "Pandas makes it easy to work with Excel and CSV files:"
   ]
  },
  {
   "cell_type": "code",
   "execution_count": null,
   "metadata": {},
   "source": [
    "# Save to CSV (like saving an Excel file)\n",
    "df.to_csv('inventory.csv', index=False)\n",
    "\n",
    "# Read it back\n",
    "df_from_csv = pd.read_csv('inventory.csv')\n",
    "print('Data read from CSV:\n')\n",
    "print(df_from_csv)"
   ]
  },
  {
   "cell_type": "markdown",
   "metadata": {},
   "source": [
    "## Exercise\n",
    "Create a DataFrame that:\n",
    "1. Contains monthly sales data for different products\n",
    "2. Calculate the total revenue per product\n",
    "3. Find the best-selling product\n",
    "4. Save the results to a CSV file"
   ]
  },
  {
   "cell_type": "code",
   "execution_count": null,
   "metadata": {},
   "source": [
    "# Your code here\n",
    "# Example solution:\n",
    "sales_data = {\n",
    "    'Product': ['Laptop', 'Mouse', 'Keyboard', 'Monitor'],\n",
    "    'January': [5, 20, 15, 10],\n",
    "    'February': [7, 25, 18, 12],\n",
    "    'March': [6, 22, 16, 8]\n",
    "}\n",
    "\n",
    "# Create DataFrame\n",
    "sales_df = pd.DataFrame(sales_data)\n",
    "\n",
    "# Add price information\n",
    "prices = {'Laptop': 1000, 'Mouse': 25, 'Keyboard': 50, 'Monitor': 200}\n",
    "sales_df['Price'] = sales_df['Product'].map(prices)\n",
    "\n",
    "# Calculate total units sold\n",
    "sales_df['Total Units'] = sales_df['January'] + sales_df['February'] + sales_df['March']\n",
    "\n",
    "# Calculate total revenue\n",
    "sales_df['Total Revenue'] = sales_df['Total Units'] * sales_df['Price']\n",
    "\n",
    "print('Sales Analysis:\n')\n",
    "print(sales_df)\n",
    "\n",
    "# Find best-selling product by revenue\n",
    "best_seller = sales_df.loc[sales_df['Total Revenue'].idxmax()]\n",
    "print('\nBest selling product:\n')\n",
    "print(f'Product: {best_seller[\\'Product\\']}')\n",
    "print(f'Total Revenue: ${best_seller[\\'Total Revenue\\']}')\n",
    "\n",
    "# Save to CSV\n",
    "sales_df.to_csv('sales_analysis.csv', index=False)"
   ]
  }
 ],
 "metadata": {
  "kernelspec": {
   "display_name": "Python 3",
   "language": "python",
   "name": "python3"
  },
  "language_info": {
   "codemirror_mode": {
    "name": "ipython",
    "version": 3
   },
   "file_extension": ".py",
   "mimetype": "text/x-python",
   "name": "python",
   "nbconvert_exporter": "python",
   "pygments_lexer": "ipython3",
   "version": "3.8.0"
  }
 }
}