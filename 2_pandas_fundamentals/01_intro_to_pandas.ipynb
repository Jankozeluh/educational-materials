{
 "cells": [
  {
   "cell_type": "markdown",
   "metadata": {},
   "source": [
    "# Introduction to Pandas for Excel Users\n",
    "\n",
    "Welcome to Pandas! This library will be your new best friend for data analysis in Python. If you're coming from Excel, you'll find many familiar concepts here.\n",
    "\n",
    "## What you'll learn\n",
    "- What is Pandas and why use it\n",
    "- DataFrames (think Excel spreadsheets)\n",
    "- Reading and writing Excel/CSV files\n",
    "- Basic data operations\n",
    "\n",
    "## Why Pandas?\n",
    "- Handles much larger datasets than Excel\n",
    "- Powerful data manipulation capabilities\n",
    "- Automation of repetitive tasks\n",
    "- Integration with other Python libraries\n"
   ]
  },
  {
   "cell_type": "code",
   "execution_count": 2,
   "metadata": {},
   "outputs": [
    {
     "name": "stdout",
     "output_type": "stream",
     "text": [
      "Our first DataFrame (like an Excel sheet):\n",
      "  Product  Price  Quantity\n",
      "0   Apple    1.2       100\n",
      "1  Banana    0.8       150\n",
      "2  Orange    1.0       120\n",
      "3   Mango    2.0        75\n"
     ]
    }
   ],
   "source": [
    "# First, let's import pandas\n",
    "import pandas as pd\n",
    "\n",
    "# Create a simple DataFrame (like an Excel sheet)\n",
    "data = {\n",
    "    'Product': ['Apple', 'Banana', 'Orange', 'Mango'],\n",
    "    'Price': [1.20, 0.80, 1.00, 2.00],\n",
    "    'Quantity': [100, 150, 120, 75]\n",
    "}\n",
    "\n",
    "df = pd.DataFrame(data)\n",
    "print('Our first DataFrame (like an Excel sheet):')\n",
    "\n",
    "print(df)"
   ]
  },
  {
   "cell_type": "markdown",
   "metadata": {},
   "source": [
    "## Basic Operations\n",
    "Let's look at some common operations that you might do in Excel:"
   ]
  },
  {
   "cell_type": "code",
   "execution_count": 3,
   "metadata": {},
   "outputs": [
    {
     "name": "stdout",
     "output_type": "stream",
     "text": [
      "DataFrame with calculated total values:\n",
      "  Product  Price  Quantity  Total Value\n",
      "0   Apple    1.2       100        120.0\n",
      "1  Banana    0.8       150        120.0\n",
      "2  Orange    1.0       120        120.0\n",
      "3   Mango    2.0        75        150.0\n",
      "Summary statistics (like Excels descriptive statistics):\n",
      "          Price    Quantity  Total Value\n",
      "count  4.000000    4.000000          4.0\n",
      "mean   1.250000  111.250000        127.5\n",
      "std    0.525991   31.721444         15.0\n",
      "min    0.800000   75.000000        120.0\n",
      "25%    0.950000   93.750000        120.0\n",
      "50%    1.100000  110.000000        120.0\n",
      "75%    1.400000  127.500000        127.5\n",
      "max    2.000000  150.000000        150.0\n",
      "Total revenue: 510.0\n"
     ]
    }
   ],
   "source": [
    "# Calculate total value (like Excel's multiplication and SUM)\n",
    "df['Total Value'] = df['Price'] * df['Quantity']\n",
    "\n",
    "print('DataFrame with calculated total values:')\n",
    "print(df)\n",
    "\n",
    "print(\"Summary statistics (like Excels descriptive statistics):\")\n",
    "print(df.describe())\n",
    "\n",
    "print('Total revenue:', df['Total Value'].sum())"
   ]
  },
  {
   "cell_type": "markdown",
   "metadata": {},
   "source": [
    "## Filtering Data\n",
    "In Excel, you use filters. In Pandas, it's even more powerful:"
   ]
  },
  {
   "cell_type": "code",
   "execution_count": 4,
   "metadata": {},
   "outputs": [
    {
     "name": "stdout",
     "output_type": "stream",
     "text": [
      "Products more expensive than $1:\n",
      "  Product  Price  Quantity  Total Value\n",
      "0   Apple    1.2       100        120.0\n",
      "3   Mango    2.0        75        150.0\n",
      "Products with total value over $100:\n",
      "  Product  Price  Quantity  Total Value\n",
      "0   Apple    1.2       100        120.0\n",
      "1  Banana    0.8       150        120.0\n",
      "2  Orange    1.0       120        120.0\n",
      "3   Mango    2.0        75        150.0\n"
     ]
    }
   ],
   "source": [
    "# Filter products more expensive than $1 (like Excel's filter)\n",
    "expensive_products = df[df['Price'] > 1.0]\n",
    "print('Products more expensive than $1:')\n",
    "print(expensive_products)\n",
    "\n",
    "# Filter products with high inventory value\n",
    "high_value = df[df['Total Value'] > 100]\n",
    "print('Products with total value over $100:')\n",
    "print(high_value)"
   ]
  },
  {
   "cell_type": "markdown",
   "metadata": {},
   "source": [
    "## Saving and Reading Files\n",
    "Pandas makes it easy to work with Excel and CSV files:"
   ]
  },
  {
   "cell_type": "code",
   "execution_count": null,
   "metadata": {},
   "outputs": [],
   "source": [
    "# Save to CSV (like saving an Excel file)\n",
    "df.to_csv('inventory.csv', index=False)\n",
    "\n",
    "# Read it back\n",
    "df_from_csv = pd.read_csv('inventory.csv')\n",
    "print('Data read from CSV:')\n",
    "print(df_from_csv)"
   ]
  },
  {
   "cell_type": "markdown",
   "metadata": {},
   "source": [
    "## Exercise\n",
    "Create a DataFrame that:\n",
    "1. Contains monthly sales data for different products\n",
    "2. Calculate the total revenue per product\n",
    "3. Find the best-selling product\n",
    "4. Save the results to a CSV file"
   ]
  },
  {
   "cell_type": "code",
   "execution_count": 5,
   "metadata": {},
   "outputs": [
    {
     "name": "stdout",
     "output_type": "stream",
     "text": [
      "Sales Analysis:\n",
      "    Product  January  February  March  Price  Total Units  Total Revenue\n",
      "0    Laptop        5         7      6   1000           18          18000\n",
      "1     Mouse       20        25     22     25           67           1675\n",
      "2  Keyboard       15        18     16     50           49           2450\n",
      "3   Monitor       10        12      8    200           30           6000\n",
      "Best selling product:\n",
      "Product: Laptop\n",
      "Total Revenue: $18000\n"
     ]
    }
   ],
   "source": [
    "# Your code here\n",
    "# Example solution:\n",
    "sales_data = {\n",
    "    'Product': ['Laptop', 'Mouse', 'Keyboard', 'Monitor'],\n",
    "    'January': [5, 20, 15, 10],\n",
    "    'February': [7, 25, 18, 12],\n",
    "    'March': [6, 22, 16, 8]\n",
    "}\n",
    "\n",
    "# Create DataFrame\n",
    "sales_df = pd.DataFrame(sales_data)\n",
    "\n",
    "# Add price information\n",
    "prices = {'Laptop': 1000, 'Mouse': 25, 'Keyboard': 50, 'Monitor': 200}\n",
    "sales_df['Price'] = sales_df['Product'].map(prices)\n",
    "\n",
    "# Calculate total units sold\n",
    "sales_df['Total Units'] = sales_df['January'] + sales_df['February'] + sales_df['March']\n",
    "\n",
    "# Calculate total revenue\n",
    "sales_df['Total Revenue'] = sales_df['Total Units'] * sales_df['Price']\n",
    "\n",
    "print('Sales Analysis:')\n",
    "print(sales_df)\n",
    "\n",
    "# Find best-selling product by revenue\n",
    "best_seller = sales_df.loc[sales_df['Total Revenue'].idxmax()]\n",
    "print('Best selling product:')\n",
    "print(f'Product: {best_seller['Product']}')\n",
    "print(f'Total Revenue: ${best_seller['Total Revenue']}')\n",
    "\n",
    "# Save to CSV\n",
    "sales_df.to_csv('sales_analysis.csv', index=False)"
   ]
  }
 ],
 "metadata": {
  "kernelspec": {
   "display_name": "base",
   "language": "python",
   "name": "python3"
  },
  "language_info": {
   "codemirror_mode": {
    "name": "ipython",
    "version": 3
   },
   "file_extension": ".py",
   "mimetype": "text/x-python",
   "name": "python",
   "nbconvert_exporter": "python",
   "pygments_lexer": "ipython3",
   "version": "3.12.2"
  }
 },
 "nbformat": 4,
 "nbformat_minor": 2
}
