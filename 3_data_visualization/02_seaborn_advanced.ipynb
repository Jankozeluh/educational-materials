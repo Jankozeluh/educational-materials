{
 "cells": [
  {
   "cell_type": "markdown",
   "metadata": {},
   "source": [
    "# Advanced Data Visualization with Seaborn\n",
    "Welcome to advanced data visualization! In this notebook, we'll explore Seaborn, a statistical visualization library built on top of Matplotlib.\n",
    "\n",
    "## What you'll learn:\n",
    "1. Statistical plots (boxplots, violinplots)\n",
    "2. Distribution plots\n",
    "3. Correlation analysis\n",
    "4. Advanced customization"
   ]
  },
  {
   "cell_type": "code",
   "execution_count": null,
   "metadata": {},
   "source": [
    "import seaborn as sns\n",
    "import matplotlib.pyplot as plt\n",
    "import pandas as pd\n",
    "import numpy as np\n",
    "\n",
    "# Set style\n",
    "sns.set_style('whitegrid')\n",
    "sns.set_context('notebook', font_scale=1.2)"
   ]
  },
  {
   "cell_type": "markdown",
   "metadata": {},
   "source": [
    "## Distribution Plots\n",
    "Let's analyze the distribution of sales data:"
   ]
  },
  {
   "cell_type": "code",
   "execution_count": null,
   "metadata": {},
   "source": [
    "# Generate sample data\n",
    "np.random.seed(42)\n",
    "sales_data = pd.DataFrame({\n",
    "    'Sales': np.random.normal(1500, 300, 100),\n",
    "    'Region': np.random.choice(['North', 'South', 'East', 'West'], 100)\n",
    "})\n",
    "\n",
    "# Create distribution plot\n",
    "plt.figure(figsize=(10, 6))\n",
    "sns.histplot(data=sales_data, x='Sales', hue='Region', multiple='stack')\n",
    "plt.title('Sales Distribution by Region')\n",
    "plt.show()"
   ]
  },
  {
   "cell_type": "markdown",
   "metadata": {},
   "source": [
    "## Box and Violin Plots\n",
    "Compare distributions between categories:"
   ]
  },
  {
   "cell_type": "code",
   "execution_count": null,
   "metadata": {},
   "source": [
    "# Create figure with two subplots\n",
    "fig, (ax1, ax2) = plt.subplots(1, 2, figsize=(15, 6))\n",
    "\n",
    "# Box plot\n",
    "sns.boxplot(data=sales_data, x='Region', y='Sales', ax=ax1)\n",
    "ax1.set_title('Sales Distribution (Box Plot)')\n",
    "\n",
    "# Violin plot\n",
    "sns.violinplot(data=sales_data, x='Region', y='Sales', ax=ax2)\n",
    "ax2.set_title('Sales Distribution (Violin Plot)')\n",
    "\n",
    "plt.tight_layout()\n",
    "plt.show()"
   ]
  },
  {
   "cell_type": "markdown",
   "metadata": {},
   "source": [
    "## Correlation Analysis\n",
    "Visualize relationships between variables:"
   ]
  },
  {
   "cell_type": "code",
   "execution_count": null,
   "metadata": {},
   "source": [
    "# Create correlated data\n",
    "data = pd.DataFrame({\n",
    "    'Sales': sales_data['Sales'],\n",
    "    'Marketing': sales_data['Sales'] * 0.3 + np.random.normal(0, 100, 100),\n",
    "    'Customer_Satisfaction': sales_data['Sales'] * 0.5 + np.random.normal(70, 10, 100),\n",
    "    'Returns': -0.2 * sales_data['Sales'] + np.random.normal(50, 20, 100)\n",
    "})\n",
    "\n",
    "# Create correlation heatmap\n",
    "plt.figure(figsize=(10, 8))\n",
    "sns.heatmap(data.corr(), annot=True, cmap='coolwarm', center=0)\n",
    "plt.title('Correlation Matrix of Business Metrics')\n",
    "plt.show()"
   ]
  },
  {
   "cell_type": "markdown",
   "metadata": {},
   "source": [
    "## Exercise\n",
    "Using the sales analysis data from the previous notebook:\n",
    "1. Create a pair plot showing relationships between all numeric columns\n",
    "2. Add a regression line to show trends\n",
    "3. Color-code by product category\n",
    "4. Save the visualization as 'sales_relationships.png'"
   ]
  },
  {
   "cell_type": "code",
   "execution_count": null,
   "metadata": {},
   "source": [
    "# Your code here\n",
    "# Example solution:\n",
    "# Read the sales data\n",
    "sales_df = pd.read_csv('../2_pandas_fundamentals/sales_analysis.csv')\n",
    "\n",
    "# Create pair plot\n",
    "g = sns.pairplot(sales_df,\n",
    "                 hue='Product',\n",
    "                 vars=['January', 'February', 'March', 'Total Revenue'],\n",
    "                 diag_kind='kde')\n",
    "\n",
    "# Customize the plot\n",
    "g.fig.suptitle('Sales Relationships Analysis', y=1.02)\n",
    "\n",
    "# Save the plot\n",
    "plt.savefig('sales_relationships.png', dpi=300, bbox_inches='tight')\n",
    "plt.show()"
   ]
  }
 ],
 "metadata": {
  "kernelspec": {
   "display_name": "Python 3",
   "language": "python",
   "name": "python3"
  },
  "language_info": {
   "codemirror_mode": {
    "name": "ipython",
    "version": 3
   },
   "file_extension": ".py",
   "mimetype": "text/x-python",
   "name": "python",
   "nbconvert_exporter": "python",
   "pygments_lexer": "ipython3",
   "version": "3.8.0"
  }
 }
}